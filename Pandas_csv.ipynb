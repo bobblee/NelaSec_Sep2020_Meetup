{
 "metadata": {
  "language_info": {
   "codemirror_mode": {
    "name": "ipython",
    "version": 3
   },
   "file_extension": ".py",
   "mimetype": "text/x-python",
   "name": "python",
   "nbconvert_exporter": "python",
   "pygments_lexer": "ipython3",
   "version": "3.8.5-final"
  },
  "orig_nbformat": 2,
  "kernelspec": {
   "name": "python38532bit3f086f85a2ae4eaaa72b77bbe00f417f",
   "display_name": "Python 3.8.5 32-bit"
  }
 },
 "nbformat": 4,
 "nbformat_minor": 2,
 "cells": [
  {
   "cell_type": "code",
   "execution_count": null,
   "metadata": {},
   "outputs": [],
   "source": [
    "import pandas as pd"
   ]
  },
  {
   "cell_type": "code",
   "execution_count": null,
   "metadata": {},
   "outputs": [],
   "source": [
    "# provide a location to get data from\n",
    "## Can be URL or somewhere in an accessable directory\n",
    "url = 'https://raw.githubusercontent.com/guipsamora/pandas_exercises/master/05_Merge/Auto_MPG/cars2.csv'\n",
    "\n",
    "# read the data from file and put it into a Pandas DataFrame\n",
    "cars2 = pd.read_csv(url)"
   ]
  },
  {
   "cell_type": "code",
   "execution_count": null,
   "metadata": {
    "tags": []
   },
   "outputs": [],
   "source": [
    "# Info gives Column Count, Row Count, Column Names, number of \"Not Null\" fields, Data Tpee\n",
    "cars2.info()"
   ]
  },
  {
   "cell_type": "code",
   "execution_count": null,
   "metadata": {
    "tags": []
   },
   "outputs": [],
   "source": [
    "# describe gives basic descriptive statistics for the columns in the datafame\n",
    "cars2.describe()"
   ]
  },
  {
   "cell_type": "code",
   "execution_count": null,
   "metadata": {
    "tags": []
   },
   "outputs": [],
   "source": [
    "## include = 'all' also adds details on non-numberic fields\n",
    "cars2.describe(include='all')"
   ]
  },
  {
   "cell_type": "code",
   "execution_count": null,
   "metadata": {
    "tags": []
   },
   "outputs": [],
   "source": [
    "# head(x) is used to peak at the first x number of records\n",
    "## if no value is provided 10 records are shown\n",
    "cars2.head()"
   ]
  },
  {
   "cell_type": "code",
   "execution_count": null,
   "metadata": {
    "tags": []
   },
   "outputs": [],
   "source": [
    "# tail(x) is similar to head, but shows the last records\n",
    "cars2.tail(5)"
   ]
  },
  {
   "cell_type": "code",
   "execution_count": null,
   "metadata": {
    "tags": []
   },
   "outputs": [],
   "source": [
    "# Select by column value (equal)\n",
    "cars2[cars2['car'] == 'volkswagen rabbit custom diesel']"
   ]
  },
  {
   "cell_type": "code",
   "execution_count": null,
   "metadata": {
    "tags": []
   },
   "outputs": [],
   "source": [
    "#Select by column value (number comparison)\n",
    "cars2[cars2['mpg']>40]"
   ]
  },
  {
   "cell_type": "code",
   "execution_count": null,
   "metadata": {
    "tags": []
   },
   "outputs": [],
   "source": [
    "#Select by an index value\n",
    "cars2.iloc[[196,111]]"
   ]
  },
  {
   "cell_type": "code",
   "execution_count": null,
   "metadata": {},
   "outputs": [],
   "source": [
    "# cacluate average mpg and acceleration by year model\n",
    "## if you don't want to make the groupby the index use as_index = False\n",
    "cars2_grp = cars2.groupby('model').agg({'mpg':['size','mean'],'acceleration':'mean'})\n",
    "cars2_grp"
   ]
  },
  {
   "cell_type": "code",
   "execution_count": null,
   "metadata": {
    "tags": []
   },
   "outputs": [],
   "source": [
    "cars2_grp.reset_index()\n",
    "cars2_grp.info()"
   ]
  },
  {
   "cell_type": "code",
   "execution_count": null,
   "metadata": {},
   "outputs": [],
   "source": [
    "cars2_grp.columns = ['frequency','mpg_mean','acceleration_mean']\n",
    "cars2_grp"
   ]
  },
  {
   "cell_type": "code",
   "execution_count": null,
   "metadata": {},
   "outputs": [],
   "source": [
    "cars2_grp['mpg_mean'].plot()"
   ]
  }
 ]
}